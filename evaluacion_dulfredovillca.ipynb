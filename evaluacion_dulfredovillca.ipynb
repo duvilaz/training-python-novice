{
 "cells": [
  {
   "cell_type": "markdown",
   "id": "e9052e8a-ce7e-456f-a2d5-7812ef4dc5bd",
   "metadata": {},
   "source": [
    "## Evaluación\n",
    "Completa lo que falta.\n"
   ]
  },
  {
   "cell_type": "code",
   "execution_count": null,
   "id": "0f311f12-3e2d-4ae7-9443-c723dc383f0e",
   "metadata": {},
   "outputs": [],
   "source": [
    "# instalacion\n",
    "!pip install pandas\n",
    "!pip install matplotlib\n",
    "!pip install pandas-datareader"
   ]
  },
  {
   "cell_type": "code",
   "execution_count": null,
   "id": "c4e2c69e-0097-4f05-97fb-3bb59273a644",
   "metadata": {},
   "outputs": [],
   "source": [
    "# 1 importa las bibliotecas\n",
    "import pandas as pd\n",
    "import pandas_datareader.data as web\n",
    "import matplotlib.pyplot as plt"
   ]
  },
  {
   "cell_type": "code",
   "execution_count": null,
   "id": "6cb70231-1b2b-4ba5-807f-513f348a4d5d",
   "metadata": {},
   "outputs": [],
   "source": [
    "# 2. Establecer una fecha de inicio \"2020-01-01\" y una fecha de finalización \"2021-08-31\"\n",
    "\n",
    "start_date = \n",
    "\n",
    "end_date = "
   ]
  },
  {
   "cell_type": "code",
   "execution_count": null,
   "id": "b7e243d4-8314-486e-88e7-a4890010ec2a",
   "metadata": {},
   "outputs": [],
   "source": [
    "# 3.Usar el método del lector de datos para almacenar los datos\n",
    "# del precio de las acciones de facebook ('FB') en un DataFrame llamado data.\n",
    "# https://finance.yahoo.com/quote/FB/history?p=FB\n",
    "data = web.DataReader(name='FB', data_source='yahoo', start=start_date, end=end_date)\n",
    "data\n",
    "# La salida se ve igual a la que leemos en cualquier archivo CSV."
   ]
  },
  {
   "cell_type": "code",
   "execution_count": null,
   "id": "838b49d7-0894-4cbd-913f-ce2c84196e58",
   "metadata": {},
   "outputs": [],
   "source": [
    "# 4. Explica el resultado."
   ]
  },
  {
   "cell_type": "markdown",
   "id": "946945e9-ad75-4d87-b6be-ab73928f15d9",
   "metadata": {},
   "source": [
    "\n",
    "* Entender los movimientos del precio, si suben o bajan.\n",
    "* Los precios de las acciones se mueven constantemente a lo largo del día de trading a medida que la oferta y la demanda de acciones cambian (precio mas alto o mas bajo). Cuando el mercado cierra, se registra el precio final de la acción.\n",
    "* EL precio de Apertura: Precio con el que un Valor inicia sus transacciones en una sesión bursátil. Normalmente este precio no tiene gran diferencia con el precio de cierre (salvo algun acontecimiento importante).\n",
    "* El precio de cierre: Es la última cotización que registró durante el día en el mercado bursátil de un determinado título financiero. Nos podemos referir a la acción de una empresa, un índice, la moneda local u otro activo similar.\n",
    "\n",
    "* El precio de cierre ajustado representa el precio de cierre preciso basado en acciones corporativas. Por ejemplo, si el precio de cierre de las acciones de la empresa ABC era de USD 21.90 pero se pagaron dividendos de 100 centimos por accion, el precio de cierre se ajustara a USD 20.90.\n",
    "\n",
    "* El volumen mide la cantidad de acciones que se han comprado y vendido en un periodo determinado para una accion en concreto en este caso (FB). Se debe analizar el volumen en relacion a los volumenes anteriores, si suben o bajan."
   ]
  },
  {
   "cell_type": "code",
   "execution_count": null,
   "id": "0ddc586e-e22e-4eca-b46a-c2441e380f2a",
   "metadata": {},
   "outputs": [],
   "source": [
    "# 5. Muestre un resumen de la información básica sobre este DataFrame y sus datos \n",
    "# use la funcion dataFrame.info() y dataFrame.describe()\n"
   ]
  },
  {
   "cell_type": "code",
   "execution_count": null,
   "id": "2bcb73ef-2820-4419-9b0c-9f74fe69b374",
   "metadata": {},
   "outputs": [],
   "source": [
    "# 6. Devuelve las primeras 5 filas del DataFrame con dataFrame.head() o dataFrame.iloc[]\n"
   ]
  },
  {
   "cell_type": "code",
   "execution_count": null,
   "id": "706df7d7-bb92-4da3-bee6-95097227e982",
   "metadata": {},
   "outputs": [],
   "source": [
    "# 7. Seleccione solo las columnas 'Open','Close' y 'Volume' del DataFrame con dataFrame.loc\n",
    "data.loc[:, ['', '', '']]"
   ]
  },
  {
   "cell_type": "code",
   "execution_count": null,
   "id": "550a7449-0c7f-4566-a070-b465e7d53237",
   "metadata": {},
   "outputs": [],
   "source": [
    "# Ver el rango de lo datos\n",
    "data.index.min(), data.index.max()"
   ]
  },
  {
   "cell_type": "code",
   "execution_count": null,
   "id": "55c73f18-eb44-475b-877a-52668214f301",
   "metadata": {},
   "outputs": [],
   "source": [
    "# 8. Ahora grafica los datos de \"Close\" usando la biblioteca matplotlib en Python, \n",
    "# 9. Agrega title, marker, linestyle y color para mejorar la visualizacion\n",
    "\n",
    "close = data['']\n",
    "ax = close.plot(title='Facebook', linestyle='', color='')\n",
    "ax.set_xlabel('')\n",
    "ax.set_ylabel('')\n",
    "ax.grid() #opcional\n",
    "plt.show()\n"
   ]
  },
  {
   "cell_type": "code",
   "execution_count": null,
   "id": "ebaa4d03-d78b-4589-b4e7-1c626326e2d5",
   "metadata": {},
   "outputs": [],
   "source": [
    "# 10. Explica la grafica sencilla de linea"
   ]
  },
  {
   "cell_type": "markdown",
   "id": "d28c72cd-6a29-4d34-abef-9ca734fe55f2",
   "metadata": {},
   "source": [
    "* Un gráfico de cierre es un tipo de gráfico que se utiliza normalmente para ilustrar los movimientos en el precio de un instrumento financiero a lo largo del tiempo.\n",
    "* El gráfico muestra los movimientos de la cotización de Facebook desde el 01/01/2020 hasta el 31/08/2021. La línea une los precios de cierre diarios, es decir,  se relaciona con el precio al que cierra un acción en una jornada o rueda de bolsa. \n",
    "* Conocer el precio de cierre es importante porque este es el precio con el que iniciará la siguiente subasta de apertura de la cotización de la acción."
   ]
  },
  {
   "cell_type": "markdown",
   "id": "e7d91303-04f8-408d-a34a-8b3da5cdfb14",
   "metadata": {},
   "source": [
    "*Fuente:https://finance.yahoo.com/quote/FB/history?p=FB"
   ]
  },
  {
   "cell_type": "code",
   "execution_count": null,
   "id": "51ba2c03-07a1-44cd-84dc-7e37edb4a205",
   "metadata": {},
   "outputs": [],
   "source": []
  }
 ],
 "metadata": {
  "kernelspec": {
   "display_name": "Python 3",
   "language": "python",
   "name": "python3"
  },
  "language_info": {
   "codemirror_mode": {
    "name": "ipython",
    "version": 3
   },
   "file_extension": ".py",
   "mimetype": "text/x-python",
   "name": "python",
   "nbconvert_exporter": "python",
   "pygments_lexer": "ipython3",
   "version": "3.8.8"
  }
 },
 "nbformat": 4,
 "nbformat_minor": 5
}
